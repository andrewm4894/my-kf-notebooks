{
 "cells": [
  {
   "cell_type": "code",
   "execution_count": 1,
   "metadata": {},
   "outputs": [],
   "source": [
    "!git add ."
   ]
  },
  {
   "cell_type": "code",
   "execution_count": 2,
   "metadata": {},
   "outputs": [
    {
     "name": "stdout",
     "output_type": "stream",
     "text": [
      "[master 4ee9fbd] adding some workbooks\r\n",
      " 5 files changed, 202 insertions(+), 14 deletions(-)\r\n",
      " create mode 100644 .ipynb_checkpoints/dev_kfserving-checkpoint.ipynb\r\n",
      " create mode 100644 .ipynb_checkpoints/dev_onnx-checkpoint.ipynb\r\n",
      " create mode 100644 dev_kfserving.ipynb\r\n",
      " create mode 100644 dev_onnx.ipynb\r\n"
     ]
    }
   ],
   "source": [
    "!git commit -m 'adding some workbooks'"
   ]
  },
  {
   "cell_type": "code",
   "execution_count": 5,
   "metadata": {},
   "outputs": [
    {
     "name": "stdout",
     "output_type": "stream",
     "text": [
      "Counting objects: 7, done.\n",
      "Delta compression using up to 8 threads.\n",
      "Compressing objects: 100% (7/7), done.\n",
      "Writing objects: 100% (7/7), 3.68 KiB | 3.68 MiB/s, done.\n",
      "Total 7 (delta 1), reused 0 (delta 0)\n",
      "remote: Resolving deltas: 100% (1/1), completed with 1 local object.\u001b[K\n",
      "To github.com:andrewm4894/my-kf-notebooks.git\n",
      "   f6c73e8..4ee9fbd  master -> master\n"
     ]
    }
   ],
   "source": [
    "!git push"
   ]
  }
 ],
 "metadata": {
  "kernelspec": {
   "display_name": "Python 3",
   "language": "python",
   "name": "python3"
  },
  "language_info": {
   "codemirror_mode": {
    "name": "ipython",
    "version": 3
   },
   "file_extension": ".py",
   "mimetype": "text/x-python",
   "name": "python",
   "nbconvert_exporter": "python",
   "pygments_lexer": "ipython3",
   "version": "3.6.7"
  }
 },
 "nbformat": 4,
 "nbformat_minor": 2
}
